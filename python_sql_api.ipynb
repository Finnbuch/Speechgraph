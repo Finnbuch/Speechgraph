{
 "cells": [
  {
   "cell_type": "code",
   "execution_count": 1,
   "metadata": {},
   "outputs": [],
   "source": [
    "import mysql.connector\n",
    "import pandas as pd\n",
    "import matplotlib.pyplot as plt\n",
    "%run \"txt_extractor.ipynb\"\n",
    "import config \n"
   ]
  },
  {
   "cell_type": "code",
   "execution_count": 2,
   "metadata": {},
   "outputs": [],
   "source": [
    "# this connects to the database\n",
    "\n",
    "mydb = mysql.connector.connect(\n",
    "  host=\"localhost\",\n",
    "  user=\"root\",\n",
    "  password=config.password,\n",
    "  database=\"abstracts\"\n",
    ")"
   ]
  },
  {
   "cell_type": "code",
   "execution_count": 3,
   "metadata": {},
   "outputs": [],
   "source": [
    "### this code is for extracting all data necessary for speechgraphs analysis from the database (Rejected Abstracts)) ###\n",
    "\n",
    "mycursor = mydb.cursor()\n",
    "mycursor.execute('SELECT a.Content, v.positivity, m.Publish_Date, m.Science\\\n",
    "                  FROM meta m\\\n",
    "                  JOIN valence v ON m.AbstractID = v.AbstractID\\\n",
    "                  JOIN abstract a ON m.AbstractID = a.AbstractID\\\n",
    "                  WHERE a.Rejected = 1 AND m.Science = \"psy\" OR a.Rejected = 1 AND m.Science = \"phy\" OR a.Rejected = 1 AND m.Science = \"bio\" OR a.Rejected = 1 AND m.Science = \"hum\"')\n",
    "\n",
    "df = pd.DataFrame(mycursor.fetchall(), columns=['Content', 'Positivity', 'Publish_Date', 'Science'])"
   ]
  },
  {
   "cell_type": "code",
   "execution_count": 4,
   "metadata": {},
   "outputs": [
    {
     "data": {
      "text/plain": [
       "array(['bio', 'psy', 'hum', 'phy'], dtype=object)"
      ]
     },
     "execution_count": 4,
     "metadata": {},
     "output_type": "execute_result"
    }
   ],
   "source": [
    "df.Science.unique()"
   ]
  },
  {
   "cell_type": "code",
   "execution_count": 4,
   "metadata": {},
   "outputs": [
    {
     "name": "stderr",
     "output_type": "stream",
     "text": [
      "  0%|          | 0/11521 [00:00<?, ?it/s]"
     ]
    },
    {
     "name": "stderr",
     "output_type": "stream",
     "text": [
      "100%|██████████| 11521/11521 [00:00<00:00, 70833.96it/s]\n",
      "100%|██████████| 11521/11521 [00:00<00:00, 327211.38it/s]\n",
      "100%|██████████| 11521/11521 [00:00<00:00, 305431.21it/s]\n",
      "100%|██████████| 11521/11521 [00:00<00:00, 325045.58it/s]\n",
      "100%|██████████| 178/178 [00:00<00:00, 56947.83it/s]\n",
      "100%|██████████| 178/178 [00:00<00:00, 105599.17it/s]\n",
      "100%|██████████| 178/178 [00:00<00:00, 178865.86it/s]\n",
      "100%|██████████| 178/178 [00:00<00:00, 99704.34it/s]\n",
      "100%|██████████| 42/42 [00:00<00:00, 42123.57it/s]\n",
      "100%|██████████| 42/42 [00:00<?, ?it/s]\n",
      "100%|██████████| 42/42 [00:00<?, ?it/s]\n",
      "100%|██████████| 42/42 [00:00<00:00, 54844.57it/s]\n",
      "100%|██████████| 418/418 [00:00<00:00, 104776.14it/s]\n",
      "100%|██████████| 418/418 [00:00<00:00, 421244.37it/s]\n",
      "100%|██████████| 418/418 [00:00<00:00, 109268.87it/s]\n",
      "100%|██████████| 418/418 [00:00<00:00, 411843.80it/s]\n"
     ]
    }
   ],
   "source": [
    "write_split_abstracts(df, \"E:\\\\Speechgraphs_paper\\\\rejected_abstracts\", thirds=True, combine_dates=True, sampling = False)"
   ]
  },
  {
   "cell_type": "code",
   "execution_count": 5,
   "metadata": {},
   "outputs": [],
   "source": [
    "### this code is for extracting all data necessary for speechgraphs analysis from the database ###\n",
    "\n",
    "mycursor = mydb.cursor()\n",
    "mycursor.execute('SELECT a.Content, v.positivity, m.Publish_Date, m.Science\\\n",
    "                  FROM meta m\\\n",
    "                  JOIN valence v ON m.AbstractID = v.AbstractID\\\n",
    "                  JOIN abstract a ON m.AbstractID = a.AbstractID\\\n",
    "                  WHERE a.Rejected = 0')\n",
    "\n",
    "df = pd.DataFrame(mycursor.fetchall(), columns=['Content', 'Positivity', 'Publish_Date', 'Science'])\n",
    "df = df.astype({'Science': 'category'})"
   ]
  },
  {
   "cell_type": "code",
   "execution_count": 7,
   "metadata": {},
   "outputs": [
    {
     "name": "stderr",
     "output_type": "stream",
     "text": [
      "100%|██████████| 538975/538975 [00:11<00:00, 45871.18it/s]\n",
      "100%|██████████| 538975/538975 [00:02<00:00, 199563.31it/s]\n",
      "100%|██████████| 538975/538975 [00:01<00:00, 270749.68it/s]\n",
      "100%|██████████| 538975/538975 [00:01<00:00, 291805.26it/s]\n",
      "100%|██████████| 870441/870441 [00:38<00:00, 22551.88it/s]\n",
      "100%|██████████| 870441/870441 [00:17<00:00, 48954.12it/s]\n",
      "100%|██████████| 870441/870441 [00:06<00:00, 137428.63it/s]\n",
      "100%|██████████| 870441/870441 [00:03<00:00, 226359.02it/s]\n",
      "100%|██████████| 506442/506442 [00:22<00:00, 22360.86it/s]\n",
      "100%|██████████| 506442/506442 [00:01<00:00, 352771.16it/s]\n",
      "100%|██████████| 506442/506442 [00:01<00:00, 351369.98it/s]\n",
      "100%|██████████| 506442/506442 [00:01<00:00, 351269.34it/s]\n",
      "100%|██████████| 349149/349149 [00:04<00:00, 72813.09it/s]\n",
      "100%|██████████| 349149/349149 [00:00<00:00, 433395.67it/s]\n",
      "100%|██████████| 349149/349149 [00:00<00:00, 415383.74it/s]\n",
      "100%|██████████| 349149/349149 [00:00<00:00, 412923.54it/s]\n",
      "100%|██████████| 201643/201643 [00:03<00:00, 66192.33it/s]\n",
      "100%|██████████| 201643/201643 [00:00<00:00, 437171.08it/s]\n",
      "100%|██████████| 201643/201643 [00:00<00:00, 426557.64it/s]\n",
      "100%|██████████| 201643/201643 [00:00<00:00, 435575.89it/s]\n",
      "100%|██████████| 261243/261243 [00:04<00:00, 59693.48it/s]\n",
      "100%|██████████| 261243/261243 [00:00<00:00, 400407.29it/s]\n",
      "100%|██████████| 261243/261243 [00:00<00:00, 370116.27it/s]\n",
      "100%|██████████| 261243/261243 [00:00<00:00, 388237.56it/s]\n",
      "100%|██████████| 509678/509678 [00:18<00:00, 27537.75it/s]\n",
      "100%|██████████| 509678/509678 [00:01<00:00, 348898.46it/s]\n",
      "100%|██████████| 509678/509678 [00:01<00:00, 286622.47it/s]\n",
      "100%|██████████| 509678/509678 [00:02<00:00, 230696.57it/s]\n"
     ]
    }
   ],
   "source": [
    "write_split_abstracts(df, \"E:\\\\Speechgraphs_paper\", sample_size = 450, thirds=True, sampling = True)"
   ]
  },
  {
   "cell_type": "code",
   "execution_count": 29,
   "metadata": {},
   "outputs": [],
   "source": [
    "### extracting journals with highest pos value for different conditions ###\n",
    "\n",
    "# all Sciences, at least 100 articles per journal\n",
    "mycursor = mydb.cursor()\n",
    "mycursor.execute('SELECT m.Journal, AVG(v.Positivity), COUNT(m.Journal)\\\n",
    "                  FROM meta m\\\n",
    "                  JOIN valence v ON m.AbstractID = v.AbstractID\\\n",
    "                  JOIN abstract a ON m.AbstractID = a.AbstractID\\\n",
    "                  WHERE a.Rejected = 0\\\n",
    "                  GROUP BY m.Journal\\\n",
    "                  HAVING COUNT(m.Journal) > 100\\\n",
    "                  ORDER BY AVG(v.Positivity) desc')\n",
    "\n",
    "myresult = mycursor.fetchall()\n",
    "plotdata = pd.DataFrame(myresult, columns=['Journal', 'Positivity', 'Count'])\n",
    "plotdata.iloc[0:100].to_csv(r'E:\\Journals_Study\\100_most_pos_with_100_articles.csv', index = False)\n",
    "\n",
    "\n",
    "# all Sciences, at least 1000 articles per journal\n",
    "mycursor = mydb.cursor()\n",
    "mycursor.execute('SELECT m.Journal, AVG(v.Positivity), COUNT(m.Journal)\\\n",
    "                  FROM meta m\\\n",
    "                  JOIN valence v ON m.AbstractID = v.AbstractID\\\n",
    "                  JOIN abstract a ON m.AbstractID = a.AbstractID\\\n",
    "                  WHERE a.Rejected = 0\\\n",
    "                  GROUP BY m.Journal\\\n",
    "                  HAVING COUNT(m.Journal) > 1000\\\n",
    "                  ORDER BY AVG(v.Positivity) desc')\n",
    "\n",
    "myresult = mycursor.fetchall()\n",
    "plotdata = pd.DataFrame(myresult, columns=['Journal', 'Positivity', 'Count'])\n",
    "plotdata.iloc[0:100].to_csv(r'E:\\Journals_Study\\100_most_pos_with_1000_articles.csv', index = False)\n",
    "\n",
    "\n",
    "# all Sciences, at least 5000 articles per journal\n",
    "mycursor = mydb.cursor()\n",
    "mycursor.execute('SELECT m.Journal, AVG(v.Positivity), COUNT(m.Journal)\\\n",
    "                  FROM meta m\\\n",
    "                  JOIN valence v ON m.AbstractID = v.AbstractID\\\n",
    "                  JOIN abstract a ON m.AbstractID = a.AbstractID\\\n",
    "                  WHERE a.Rejected = 0\\\n",
    "                  GROUP BY m.Journal\\\n",
    "                  HAVING COUNT(m.Journal) > 5000\\\n",
    "                  ORDER BY AVG(v.Positivity) desc')\n",
    "\n",
    "myresult = mycursor.fetchall()\n",
    "plotdata = pd.DataFrame(myresult, columns=['Journal', 'Positivity', 'Count'])\n",
    "plotdata.iloc[0:100].to_csv(r'E:\\Journals_Study\\100_most_pos_with_5000_articles.csv', index = False)\n",
    "\n",
    "\n",
    "# psychology, at least 100 articles per journal\n",
    "mycursor = mydb.cursor()\n",
    "mycursor.execute('SELECT m.Journal, AVG(v.Positivity), COUNT(m.Journal)\\\n",
    "                  FROM meta m\\\n",
    "                  JOIN valence v ON m.AbstractID = v.AbstractID\\\n",
    "                  JOIN abstract a ON m.AbstractID = a.AbstractID\\\n",
    "                  WHERE a.Rejected = 0 AND m.Science = \"psy\"\\\n",
    "                  GROUP BY m.Journal\\\n",
    "                  HAVING COUNT(m.Journal) > 100\\\n",
    "                  ORDER BY AVG(v.Positivity) desc')\n",
    "\n",
    "myresult = mycursor.fetchall()\n",
    "plotdata = pd.DataFrame(myresult, columns=['Journal', 'Positivity', 'Count'])\n",
    "plotdata.iloc[0:100].to_csv(r'E:\\Journals_Study\\psy_100_most_pos_with_100_articles.csv', index = False)"
   ]
  },
  {
   "cell_type": "code",
   "execution_count": 4,
   "metadata": {},
   "outputs": [
    {
     "name": "stdout",
     "output_type": "stream",
     "text": [
      "[('Patient education and counseling', 0.04339757881851159, 4130), ('BMC bioinformatics', 0.0419826674288328, 8308), ('Nutrients', 0.04016553077403019, 3081), ('Supportive care in cancer : official journal of the Multinational Association of Supportive Care in Cancer', 0.03977297835981219, 3079), ('Studies in health technology and informatics', 0.039296789037622536, 7443), ('Academic medicine : journal of the Association of American Medical Colleges', 0.03897986799647277, 3179), ('BMC health services research', 0.038916640668063746, 3191), ('Applied microbiology and biotechnology', 0.03861172652806395, 3070), ('IEEE transactions on medical imaging', 0.03762692098326103, 3514), ('International journal of environmental research and public health', 0.03754114155164862, 11424), ('The American journal of cardiology', 0.03721983386612051, 3489), ('Journal of clinical oncology : official journal of the American Society of Clinical Oncology', 0.03715931064918439, 3829), ('Sensors (Basel, Switzerland)', 0.037134498883947493, 9896), ('Journal of medical Internet research', 0.036863300594927866, 4060), ('Journal of clinical nursing', 0.03657048881137954, 3192), ('International journal of pharmaceutics', 0.036512897146396786, 4691), ('Computers in biology and medicine', 0.03615820081534053, 3268), ('Bioinformatics (Oxford, England)', 0.036115845387395006, 10937), ('Environmental science and pollution research international', 0.035924699874180684, 3081), ('Magnetic resonance in medicine', 0.035783101496829194, 5030), ('British journal of cancer', 0.03577905542502554, 3218), ('BioMed research international', 0.035678729159846816, 3399), ('International journal of molecular sciences', 0.03553027961741531, 6440), ('Computer methods and programs in biomedicine', 0.03551822232179068, 3375), ('IEEE transactions on bio-medical engineering', 0.03551397556725574, 4973), ('Molecules (Basel, Switzerland)', 0.035360310491775376, 3608), ('Pediatrics', 0.03527096528640972, 5056), ('Journal of personality and social psychology', 0.034979454153125804, 3407), ('Annual International Conference of the IEEE Engineering in Medicine and Biology Society. IEEE Engineering in Medicine and Biology Society. Annual International Conference', 0.034914126018125304, 13054), ('Proteomics', 0.03451658428674287, 4040), ('Quality of life research : an international journal of quality of life aspects of treatment, care and rehabilitation', 0.03432867142788649, 4576), ('The Journal of urology', 0.034103630475773666, 3030), ('Circulation', 0.034080150688238414, 3718), ('Journal of proteome research', 0.03406080717427863, 5427), ('Neural networks : the official journal of the International Neural Network Society', 0.03392416498562971, 3323), ('The Science of the total environment', 0.03375091508925122, 4645), ('BMC genomics', 0.03361464390759891, 7061), ('Cancer', 0.03358282999273254, 6290), ('Scientific reports', 0.03350087422058805, 24024), ('NeuroImage', 0.03337224038267113, 5843), ('American journal of obstetrics and gynecology', 0.03334285723006663, 3360), ('PLoS computational biology', 0.0331744463639015, 5463), ('Methods in molecular biology (Clifton, N.J.)', 0.03285291958128939, 12211), ('Journal of affective disorders', 0.032847798826266664, 3180), ('PloS one', 0.032733511553225764, 59132), ('BMC public health', 0.03269644627943954, 6078), ('JAMA', 0.03247639729009211, 3686), ('International journal of cancer', 0.03235839915576488, 3298), ('Nucleic acids research', 0.03234440335994234, 6745), ('Cancer research', 0.03233913877215697, 3158), ('American journal of public health', 0.03214246582486518, 4380), ('Analytical chemistry', 0.03180366880495522, 5506), ('Chemosphere', 0.03166328420516603, 3252), ('Journal of medical ethics', 0.0315911620109928, 3236), ('The American journal of physiology', 0.031478809337972785, 3964), ('International journal of radiation oncology, biology, physics', 0.0313382595162747, 3045), ('Journal of pharmaceutical sciences', 0.031046077674246626, 3429), ('Physics in medicine and biology', 0.030963484194734988, 5970), ('Environmental science & technology', 0.030869856862256493, 3281), ('Medical physics', 0.03061565061276609, 6364), ('Journal of neuroscience methods', 0.030608992709305963, 3514), ('Social science & medicine (1982)', 0.030517133663181567, 7996), ('International journal of systematic and evolutionary microbiology', 0.030488341138872225, 11236), ('Biosensors & bioelectronics', 0.030468934034700874, 3058), ('Statistics in medicine', 0.030418767171269612, 3293), ('Proceedings. Biological sciences', 0.02984168219749269, 3234), ('Optics express', 0.029827899538650886, 8036), ('Journal of advanced nursing', 0.029823666803196307, 5569), ('Psychological reports', 0.029611421937069754, 3397), ('American journal of epidemiology', 0.02914497123997082, 3987), ('Child development', 0.02904660094390509, 3648), ('The Journal of the Acoustical Society of America', 0.02812159335837686, 7632), ('The American journal of pathology', 0.027811472970097104, 3225), ('Biochemical and biophysical research communications', 0.027674993150124377, 3603), ('Nature communications', 0.027400103482916896, 5801), ('The Journal of chemical physics', 0.02708985175835589, 3439), ('Brain research', 0.026728944579327847, 9190), ('Journal of the American Chemical Society', 0.02665347063692233, 3789), ('Human pathology', 0.02657506915937685, 3257), ('Neuroscience letters', 0.026270183460428777, 5289), ('Molecular biology and evolution', 0.02622672927927265, 4265), ('Molecular phylogenetics and evolution', 0.026046928670867175, 6414), ('The European journal of neuroscience', 0.02601016070284694, 3051), ('Neuroscience', 0.025974304854214328, 6149), ('The Journal of physiology', 0.0258908486656981, 3005), ('Medicine', 0.025869304632960107, 4170), ('Molecular ecology', 0.025678357803275154, 6016), ('The journal of physical chemistry. B', 0.02548212413632014, 3804), ('BMJ open', 0.025469206124401324, 8086), ('Journal of neurophysiology', 0.025391294262363286, 4296), ('Biochimica et biophysica acta', 0.02529206865797536, 3732), ('The Journal of neuroscience : the official journal of the Society for Neuroscience', 0.025282919683070986, 7412), ('Gene', 0.02507023066106551, 3816), ('Proceedings of the National Academy of Sciences of the United States of America', 0.02484426927903491, 16612), ('Applied and environmental microbiology', 0.024824030133425642, 9047), ('International journal of food microbiology', 0.024190181757207885, 5174), ('The journal of histochemistry and cytochemistry : official journal of the Histochemistry Society', 0.02407902743084226, 3290), ('Nature', 0.02400431333407844, 4405), ('Journal of food protection', 0.022885920138437592, 4304), ('The journal of physical chemistry. A', 0.022839150284113128, 3295), ('Spectrochimica acta. Part A, Molecular and biomolecular spectroscopy', 0.022401777267815462, 3151), ('The Journal of biological chemistry', 0.022348398382506983, 8054), ('Biophysical journal', 0.022318761167792734, 6748), ('Science (New York, N.Y.)', 0.022280912426169537, 4165), ('Physical review. E, Statistical, nonlinear, and soft matter physics', 0.021951905100651172, 3202), ('Journal of clinical microbiology', 0.02012487228886816, 5870), ('Biochemistry', 0.019598229656603374, 3502), ('Archives of virology', 0.017591949330444074, 3627), ('The Journal of comparative neurology', 0.014603956603597564, 5156), ('Zootaxa', 0.013121272408575649, 3018)]\n"
     ]
    }
   ],
   "source": [
    "print(myresult)"
   ]
  },
  {
   "cell_type": "code",
   "execution_count": 53,
   "metadata": {},
   "outputs": [],
   "source": [
    "# this was used for sampeling the abstracts for the eyetracking paradigm\n",
    "# dont change the code below\n",
    "\n",
    "mycursor = mydb.cursor()\n",
    "\n",
    "mycursor.execute('SELECT r.rAbstract, m.Publish_date, v.positivity\\\n",
    "                  FROM raw_text r\\\n",
    "                  JOIN valence v ON r.AbstractID = v.AbstractID\\\n",
    "                  JOIN meta m ON r.AbstractID = m.AbstractID\\\n",
    "                  WHERE m.Science = \"psy\" AND m.Publish_date BETWEEN \"2020-01-01\" AND \"2020-12-31\"')\n",
    "\n",
    "myresult = mycursor.fetchall()\n",
    "\n",
    "df = pd.DataFrame(myresult, columns = ['Content', 'Publish_date', 'Positivity'])\n",
    "\n",
    "df.Positivity.quantile(q = 0.25)\n",
    "\n",
    "df.Positivity.quantile(q = 0.75)\n",
    "\n",
    "\n",
    "df_low_pos = df[df.Positivity <= 0.013]\n",
    "df_high_pos = df[df.Positivity > 0.051]\n",
    "\n",
    "high_sample = df_high_pos.sample(24, random_state = 1)\n",
    "low_sample = df_low_pos.sample(24, random_state = 1)\n",
    "\n",
    "high_sample.Content.to_csv(r'E:\\Abstract_MA_Study\\high_sample.csv', index = False)\n",
    "low_sample.Content.to_csv(r'E:\\Abstract_MA_Study\\low_sample.csv', index = False)"
   ]
  }
 ],
 "metadata": {
  "kernelspec": {
   "display_name": "Python 3",
   "language": "python",
   "name": "python3"
  },
  "language_info": {
   "codemirror_mode": {
    "name": "ipython",
    "version": 3
   },
   "file_extension": ".py",
   "mimetype": "text/x-python",
   "name": "python",
   "nbconvert_exporter": "python",
   "pygments_lexer": "ipython3",
   "version": "3.11.9"
  }
 },
 "nbformat": 4,
 "nbformat_minor": 2
}
