{
 "cells": [
  {
   "cell_type": "code",
   "execution_count": null,
   "metadata": {},
   "outputs": [],
   "source": [
    "### attempting glm with python ###"
   ]
  },
  {
   "cell_type": "code",
   "execution_count": 52,
   "metadata": {},
   "outputs": [],
   "source": [
    "import numpy as np\n",
    "import pandas as pd\n",
    "import statsmodels.api as sm\n",
    "import statsmodels.formula.api as smf\n",
    "import statsmodels.genmod.bayes_mixed_glm as stat"
   ]
  },
  {
   "cell_type": "code",
   "execution_count": 15,
   "metadata": {},
   "outputs": [],
   "source": [
    "df = pd.read_csv(r\"E:\\Speechgraphs_paper\\same_size_5_year_all_sciences_thirds\\final_table_non_retracted.csv\", dtype={'Science': \"category\"})"
   ]
  },
  {
   "cell_type": "code",
   "execution_count": 16,
   "metadata": {},
   "outputs": [],
   "source": [
    "df.drop([\"L1\", \"L2\", \"L3\", \"ASP\", \"CC\", \"Edges\", \"Nodes\", \"PE\", \"LCC\", \"Diameter\", \"Density\"], axis=1, inplace=True)"
   ]
  },
  {
   "cell_type": "code",
   "execution_count": 17,
   "metadata": {},
   "outputs": [],
   "source": [
    "df[\"Valence\"] = df[\"Valence\"].apply(lambda x: 1 if x == \"high\" else 0)\n",
    "df.Valence = pd.to_numeric(df.Valence)"
   ]
  },
  {
   "cell_type": "code",
   "execution_count": 18,
   "metadata": {},
   "outputs": [],
   "source": [
    "df[\"id\"] = df.reset_index().index"
   ]
  },
  {
   "cell_type": "code",
   "execution_count": 19,
   "metadata": {},
   "outputs": [],
   "source": [
    "df.Date = df.Date.apply(lambda x: 0 if x == \"80_85\" else x)\n",
    "df.Date = df.Date.apply(lambda x: 1 if x == \"85_90\" else x)\n",
    "df.Date = df.Date.apply(lambda x: 2 if x == \"90_95\" else x)\n",
    "df.Date = df.Date.apply(lambda x: 3 if x == \"95_00\" else x)\n",
    "df.Date = df.Date.apply(lambda x: 4 if x == \"00_05\" else x)\n",
    "df.Date = df.Date.apply(lambda x: 5 if x == \"05_10\" else x)\n",
    "df.Date = df.Date.apply(lambda x: 6 if x == \"10_15\" else x)\n",
    "df.Date = df.Date.apply(lambda x: 7 if x == \"15_20\" else x)"
   ]
  },
  {
   "cell_type": "code",
   "execution_count": 20,
   "metadata": {},
   "outputs": [],
   "source": [
    "df.Date = df.Date.astype(int)"
   ]
  },
  {
   "cell_type": "code",
   "execution_count": 21,
   "metadata": {},
   "outputs": [
    {
     "data": {
      "text/html": [
       "<div>\n",
       "<style scoped>\n",
       "    .dataframe tbody tr th:only-of-type {\n",
       "        vertical-align: middle;\n",
       "    }\n",
       "\n",
       "    .dataframe tbody tr th {\n",
       "        vertical-align: top;\n",
       "    }\n",
       "\n",
       "    .dataframe thead th {\n",
       "        text-align: right;\n",
       "    }\n",
       "</style>\n",
       "<table border=\"1\" class=\"dataframe\">\n",
       "  <thead>\n",
       "    <tr style=\"text-align: right;\">\n",
       "      <th></th>\n",
       "      <th>File</th>\n",
       "      <th>WC</th>\n",
       "      <th>RE</th>\n",
       "      <th>LSC</th>\n",
       "      <th>ATD</th>\n",
       "      <th>Science</th>\n",
       "      <th>Part</th>\n",
       "      <th>Valence</th>\n",
       "      <th>Date</th>\n",
       "      <th>retracted</th>\n",
       "      <th>id</th>\n",
       "    </tr>\n",
       "  </thead>\n",
       "  <tbody>\n",
       "    <tr>\n",
       "      <th>0</th>\n",
       "      <td>bio_1_df_high_values_00_05_0</td>\n",
       "      <td>50</td>\n",
       "      <td>0</td>\n",
       "      <td>16</td>\n",
       "      <td>2.000000</td>\n",
       "      <td>bio</td>\n",
       "      <td>1</td>\n",
       "      <td>1</td>\n",
       "      <td>4</td>\n",
       "      <td>0</td>\n",
       "      <td>0</td>\n",
       "    </tr>\n",
       "    <tr>\n",
       "      <th>1</th>\n",
       "      <td>bio_1_df_high_values_00_05_1</td>\n",
       "      <td>35</td>\n",
       "      <td>1</td>\n",
       "      <td>25</td>\n",
       "      <td>2.344828</td>\n",
       "      <td>bio</td>\n",
       "      <td>1</td>\n",
       "      <td>1</td>\n",
       "      <td>4</td>\n",
       "      <td>0</td>\n",
       "      <td>1</td>\n",
       "    </tr>\n",
       "    <tr>\n",
       "      <th>2</th>\n",
       "      <td>bio_1_df_high_values_00_05_10</td>\n",
       "      <td>19</td>\n",
       "      <td>0</td>\n",
       "      <td>13</td>\n",
       "      <td>2.000000</td>\n",
       "      <td>bio</td>\n",
       "      <td>1</td>\n",
       "      <td>1</td>\n",
       "      <td>4</td>\n",
       "      <td>0</td>\n",
       "      <td>2</td>\n",
       "    </tr>\n",
       "    <tr>\n",
       "      <th>3</th>\n",
       "      <td>bio_1_df_high_values_00_05_100</td>\n",
       "      <td>27</td>\n",
       "      <td>0</td>\n",
       "      <td>17</td>\n",
       "      <td>2.166667</td>\n",
       "      <td>bio</td>\n",
       "      <td>1</td>\n",
       "      <td>1</td>\n",
       "      <td>4</td>\n",
       "      <td>0</td>\n",
       "      <td>3</td>\n",
       "    </tr>\n",
       "    <tr>\n",
       "      <th>4</th>\n",
       "      <td>bio_1_df_high_values_00_05_101</td>\n",
       "      <td>25</td>\n",
       "      <td>0</td>\n",
       "      <td>1</td>\n",
       "      <td>1.920000</td>\n",
       "      <td>bio</td>\n",
       "      <td>1</td>\n",
       "      <td>1</td>\n",
       "      <td>4</td>\n",
       "      <td>0</td>\n",
       "      <td>4</td>\n",
       "    </tr>\n",
       "  </tbody>\n",
       "</table>\n",
       "</div>"
      ],
      "text/plain": [
       "                             File  WC  RE  LSC       ATD Science  Part  \\\n",
       "0    bio_1_df_high_values_00_05_0  50   0   16  2.000000     bio     1   \n",
       "1    bio_1_df_high_values_00_05_1  35   1   25  2.344828     bio     1   \n",
       "2   bio_1_df_high_values_00_05_10  19   0   13  2.000000     bio     1   \n",
       "3  bio_1_df_high_values_00_05_100  27   0   17  2.166667     bio     1   \n",
       "4  bio_1_df_high_values_00_05_101  25   0    1  1.920000     bio     1   \n",
       "\n",
       "   Valence  Date  retracted  id  \n",
       "0        1     4          0   0  \n",
       "1        1     4          0   1  \n",
       "2        1     4          0   2  \n",
       "3        1     4          0   3  \n",
       "4        1     4          0   4  "
      ]
     },
     "execution_count": 21,
     "metadata": {},
     "output_type": "execute_result"
    }
   ],
   "source": [
    "df.head(5)"
   ]
  },
  {
   "cell_type": "code",
   "execution_count": 22,
   "metadata": {},
   "outputs": [
    {
     "name": "stdout",
     "output_type": "stream",
     "text": [
      "<class 'pandas.core.frame.DataFrame'>\n",
      "RangeIndex: 151200 entries, 0 to 151199\n",
      "Data columns (total 11 columns):\n",
      " #   Column     Non-Null Count   Dtype   \n",
      "---  ------     --------------   -----   \n",
      " 0   File       151200 non-null  object  \n",
      " 1   WC         151200 non-null  int64   \n",
      " 2   RE         151200 non-null  int64   \n",
      " 3   LSC        151200 non-null  int64   \n",
      " 4   ATD        151200 non-null  float64 \n",
      " 5   Science    151200 non-null  category\n",
      " 6   Part       151200 non-null  int64   \n",
      " 7   Valence    151200 non-null  int64   \n",
      " 8   Date       151200 non-null  int32   \n",
      " 9   retracted  151200 non-null  int64   \n",
      " 10  id         151200 non-null  int64   \n",
      "dtypes: category(1), float64(1), int32(1), int64(7), object(1)\n",
      "memory usage: 11.1+ MB\n"
     ]
    }
   ],
   "source": [
    "df.info()"
   ]
  },
  {
   "cell_type": "code",
   "execution_count": 38,
   "metadata": {},
   "outputs": [],
   "source": [
    "# Assuming 'data' is your pandas DataFrame\n",
    "result_list = []\n",
    "for i in range(10000):\n",
    "\n",
    "    boot_df = df.sample(1000, random_state=i)\n",
    "    model_formula = \"Valence ~ Date + WC + LSC + RE + Part + (Part|id)\"\n",
    "    model = stat.BinomialBayesMixedGLM(endog = boot_df.Valence, exog= boot_df[[\"Date\", \"WC\", \"LSC\", \"RE\", \"Part\"]], group=boot_df.Science)\n",
    "    result = model.fit()\n",
    "    result_list.append(result)"
   ]
  },
  {
   "cell_type": "code",
   "execution_count": 50,
   "metadata": {},
   "outputs": [
    {
     "name": "stdout",
     "output_type": "stream",
     "text": [
      "<class 'pandas.core.series.Series'>\n"
     ]
    }
   ],
   "source": [
    "print((result_list[5].pvalues))"
   ]
  },
  {
   "cell_type": "code",
   "execution_count": 48,
   "metadata": {},
   "outputs": [],
   "source": [
    "df_results = pd.DataFrame(columns=[\"p_intercept\", \"p_date\", \"p_wc\", \"p_LSC\", \"p_RE\", \"p_id\", \"p_group\"])\n",
    "for i in range(10000):\n",
    "    df_results.loc[i] = result_list[i].pvalues"
   ]
  },
  {
   "cell_type": "code",
   "execution_count": 45,
   "metadata": {},
   "outputs": [
    {
     "data": {
      "text/html": [
       "<div>\n",
       "<style scoped>\n",
       "    .dataframe tbody tr th:only-of-type {\n",
       "        vertical-align: middle;\n",
       "    }\n",
       "\n",
       "    .dataframe tbody tr th {\n",
       "        vertical-align: top;\n",
       "    }\n",
       "\n",
       "    .dataframe thead th {\n",
       "        text-align: right;\n",
       "    }\n",
       "</style>\n",
       "<table border=\"1\" class=\"dataframe\">\n",
       "  <thead>\n",
       "    <tr style=\"text-align: right;\">\n",
       "      <th></th>\n",
       "      <th>p_intercept</th>\n",
       "      <th>p_date</th>\n",
       "      <th>p_wc</th>\n",
       "      <th>p_LSC</th>\n",
       "      <th>p_RE</th>\n",
       "      <th>p_id</th>\n",
       "      <th>p_group</th>\n",
       "    </tr>\n",
       "  </thead>\n",
       "  <tbody>\n",
       "    <tr>\n",
       "      <th>0</th>\n",
       "      <td>NaN</td>\n",
       "      <td>NaN</td>\n",
       "      <td>NaN</td>\n",
       "      <td>NaN</td>\n",
       "      <td>NaN</td>\n",
       "      <td>NaN</td>\n",
       "      <td>NaN</td>\n",
       "    </tr>\n",
       "    <tr>\n",
       "      <th>1</th>\n",
       "      <td>NaN</td>\n",
       "      <td>NaN</td>\n",
       "      <td>NaN</td>\n",
       "      <td>NaN</td>\n",
       "      <td>NaN</td>\n",
       "      <td>NaN</td>\n",
       "      <td>NaN</td>\n",
       "    </tr>\n",
       "    <tr>\n",
       "      <th>2</th>\n",
       "      <td>NaN</td>\n",
       "      <td>NaN</td>\n",
       "      <td>NaN</td>\n",
       "      <td>NaN</td>\n",
       "      <td>NaN</td>\n",
       "      <td>NaN</td>\n",
       "      <td>NaN</td>\n",
       "    </tr>\n",
       "    <tr>\n",
       "      <th>3</th>\n",
       "      <td>NaN</td>\n",
       "      <td>NaN</td>\n",
       "      <td>NaN</td>\n",
       "      <td>NaN</td>\n",
       "      <td>NaN</td>\n",
       "      <td>NaN</td>\n",
       "      <td>NaN</td>\n",
       "    </tr>\n",
       "    <tr>\n",
       "      <th>4</th>\n",
       "      <td>NaN</td>\n",
       "      <td>NaN</td>\n",
       "      <td>NaN</td>\n",
       "      <td>NaN</td>\n",
       "      <td>NaN</td>\n",
       "      <td>NaN</td>\n",
       "      <td>NaN</td>\n",
       "    </tr>\n",
       "  </tbody>\n",
       "</table>\n",
       "</div>"
      ],
      "text/plain": [
       "   p_intercept  p_date  p_wc  p_LSC  p_RE  p_id  p_group\n",
       "0          NaN     NaN   NaN    NaN   NaN   NaN      NaN\n",
       "1          NaN     NaN   NaN    NaN   NaN   NaN      NaN\n",
       "2          NaN     NaN   NaN    NaN   NaN   NaN      NaN\n",
       "3          NaN     NaN   NaN    NaN   NaN   NaN      NaN\n",
       "4          NaN     NaN   NaN    NaN   NaN   NaN      NaN"
      ]
     },
     "execution_count": 45,
     "metadata": {},
     "output_type": "execute_result"
    }
   ],
   "source": [
    "df_results.head()"
   ]
  },
  {
   "cell_type": "code",
   "execution_count": null,
   "metadata": {},
   "outputs": [],
   "source": [
    "predicted_values = result.predict(new_data)"
   ]
  }
 ],
 "metadata": {
  "kernelspec": {
   "display_name": "Python 3",
   "language": "python",
   "name": "python3"
  },
  "language_info": {
   "codemirror_mode": {
    "name": "ipython",
    "version": 3
   },
   "file_extension": ".py",
   "mimetype": "text/x-python",
   "name": "python",
   "nbconvert_exporter": "python",
   "pygments_lexer": "ipython3",
   "version": "3.11.9"
  }
 },
 "nbformat": 4,
 "nbformat_minor": 2
}
